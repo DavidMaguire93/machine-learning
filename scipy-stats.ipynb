{
 "cells": [
  {
   "cell_type": "markdown",
   "metadata": {},
   "source": [
    "# ANOVA Analysis of NBA Players: Is bigger better?"
   ]
  },
  {
   "cell_type": "markdown",
   "metadata": {},
   "source": [
    "For this project, I will be analysing the relationships between NBA players' height, weight and wingspan and their playing position."
   ]
  },
  {
   "cell_type": "code",
   "execution_count": 1,
   "metadata": {},
   "outputs": [],
   "source": [
    "import pandas as pd\n",
    "import numpy as np\n",
    "from scipy import stats\n",
    "from scipy.stats import shapiro\n",
    "import matplotlib.pyplot as plt\n",
    "import seaborn as sns\n",
    "import pyhomogeneity as hg\n",
    "from scipy.stats import f_oneway\n",
    "import statsmodels.api as sa\n",
    "import statsmodels.formula.api as sfa\n",
    "import scikit_posthocs as sp"
   ]
  },
  {
   "cell_type": "code",
   "execution_count": null,
   "metadata": {},
   "outputs": [],
   "source": []
  },
  {
   "cell_type": "code",
   "execution_count": null,
   "metadata": {},
   "outputs": [],
   "source": []
  },
  {
   "cell_type": "markdown",
   "metadata": {},
   "source": [
    "# Getting the data\n",
    "In order to get the dataset, I had to get the data from 2 sources. \n",
    "\n",
    "## Anthoprometric Data\n",
    "\n",
    "The first source was https://www.nba.com/stats/draft/combine-anthro/. This page contains data on all draft classes (Incoming players from college that will be selected by pro teams) by year. This gave me data for the player anthroprometric data. This data had to be manually pasted into an excel document as exporting / auto-scraping the data was proving difficult. I went back as far as 03/04 (this is the draft class that contained LeBron James, who I'm quite sure will be the earliest player drafted given the criteria I'll be using in this project). I did not include players drafted in the last year as the previous NBA season (last complete one) was used.\n",
    "\n",
    "The data had to be copied from the webpages and, in excel, 'Paste Special' had to be selected and 'Text' selected in the pop-up menu. The excel was then saved as a CSV and ready for cleaning."
   ]
  },
  {
   "cell_type": "code",
   "execution_count": 2,
   "metadata": {},
   "outputs": [
    {
     "data": {
      "text/html": [
       "<div>\n",
       "<style scoped>\n",
       "    .dataframe tbody tr th:only-of-type {\n",
       "        vertical-align: middle;\n",
       "    }\n",
       "\n",
       "    .dataframe tbody tr th {\n",
       "        vertical-align: top;\n",
       "    }\n",
       "\n",
       "    .dataframe thead th {\n",
       "        text-align: right;\n",
       "    }\n",
       "</style>\n",
       "<table border=\"1\" class=\"dataframe\">\n",
       "  <thead>\n",
       "    <tr style=\"text-align: right;\">\n",
       "      <th></th>\n",
       "      <th>Player</th>\n",
       "      <th>Position</th>\n",
       "      <th>Body Fat</th>\n",
       "      <th>Hand Length</th>\n",
       "      <th>Hand Width</th>\n",
       "      <th>Height</th>\n",
       "      <th>Height in Shoes</th>\n",
       "      <th>Standing Reach</th>\n",
       "      <th>Weight</th>\n",
       "      <th>Wingspan</th>\n",
       "    </tr>\n",
       "  </thead>\n",
       "  <tbody>\n",
       "    <tr>\n",
       "      <th>0</th>\n",
       "      <td>Kris Dunn</td>\n",
       "      <td>PG</td>\n",
       "      <td>-%</td>\n",
       "      <td>-</td>\n",
       "      <td>-</td>\n",
       "      <td>6' 3''</td>\n",
       "      <td>6' 4.25''</td>\n",
       "      <td>8' 4''</td>\n",
       "      <td>0</td>\n",
       "      <td>6' 9.5''</td>\n",
       "    </tr>\n",
       "    <tr>\n",
       "      <th>1</th>\n",
       "      <td>Tyler Ulis</td>\n",
       "      <td>PG</td>\n",
       "      <td>5.20%</td>\n",
       "      <td>7.5</td>\n",
       "      <td>7.5</td>\n",
       "      <td>5' 8.75''</td>\n",
       "      <td>5' 10''</td>\n",
       "      <td>7' 4.5''</td>\n",
       "      <td>149.2</td>\n",
       "      <td>6' 2''</td>\n",
       "    </tr>\n",
       "    <tr>\n",
       "      <th>2</th>\n",
       "      <td>John Lucas III</td>\n",
       "      <td>PG</td>\n",
       "      <td>-%</td>\n",
       "      <td>-</td>\n",
       "      <td>-</td>\n",
       "      <td>5' 9.25''</td>\n",
       "      <td>5' 10.5''</td>\n",
       "      <td>7' 8''</td>\n",
       "      <td>154.4</td>\n",
       "      <td>6' 0''</td>\n",
       "    </tr>\n",
       "    <tr>\n",
       "      <th>3</th>\n",
       "      <td>Russ Smith</td>\n",
       "      <td>PG</td>\n",
       "      <td>3.50%</td>\n",
       "      <td>8.25</td>\n",
       "      <td>8.5</td>\n",
       "      <td>5' 11.5''</td>\n",
       "      <td>6' 0.75''</td>\n",
       "      <td>7' 11''</td>\n",
       "      <td>160</td>\n",
       "      <td>6' 3.5''</td>\n",
       "    </tr>\n",
       "    <tr>\n",
       "      <th>4</th>\n",
       "      <td>Daryl Dorsey</td>\n",
       "      <td>PG</td>\n",
       "      <td>-%</td>\n",
       "      <td>-</td>\n",
       "      <td>-</td>\n",
       "      <td>5' 11.25''</td>\n",
       "      <td>6' 0.5''</td>\n",
       "      <td>7' 10''</td>\n",
       "      <td>160.8</td>\n",
       "      <td>5' 11.5''</td>\n",
       "    </tr>\n",
       "  </tbody>\n",
       "</table>\n",
       "</div>"
      ],
      "text/plain": [
       "           Player Position Body Fat Hand Length Hand Width      Height  \\\n",
       "0       Kris Dunn       PG       -%           -          -      6' 3''   \n",
       "1      Tyler Ulis       PG    5.20%         7.5        7.5   5' 8.75''   \n",
       "2  John Lucas III       PG       -%           -          -   5' 9.25''   \n",
       "3      Russ Smith       PG    3.50%        8.25        8.5   5' 11.5''   \n",
       "4    Daryl Dorsey       PG       -%           -          -  5' 11.25''   \n",
       "\n",
       "  Height in Shoes Standing Reach Weight   Wingspan  \n",
       "0       6' 4.25''         8' 4''      0   6' 9.5''  \n",
       "1         5' 10''       7' 4.5''  149.2     6' 2''  \n",
       "2       5' 10.5''         7' 8''  154.4     6' 0''  \n",
       "3       6' 0.75''        7' 11''    160   6' 3.5''  \n",
       "4        6' 0.5''        7' 10''  160.8  5' 11.5''  "
      ]
     },
     "execution_count": 2,
     "metadata": {},
     "output_type": "execute_result"
    }
   ],
   "source": [
    "# Custom headers are used to remove symbols that were causing issues\n",
    "headers = ['Player', 'Position', 'Body Fat', 'Hand Length', 'Hand Width', 'Height', 'Height in Shoes', 'Standing Reach', 'Weight', 'Wingspan']\n",
    "\n",
    "# Skips first row to skip headers in original doc\n",
    "df = pd.read_csv('All_Draftees_02_20.csv', names = headers, skiprows = 1)\n",
    "df.head()"
   ]
  },
  {
   "cell_type": "markdown",
   "metadata": {},
   "source": [
    "#### Notes about measurements\n",
    "\n",
    "- Both hand length and hand size are not included in some years so will not be used\n",
    "- There are 2 different heights: with shoes and without shoes. Height without shoes has more measurements and will be used as more measurements are present\n",
    "- Some players do not have measurements. These may have to be obtained by other means or the players ommitted from the analysis."
   ]
  },
  {
   "cell_type": "code",
   "execution_count": 3,
   "metadata": {},
   "outputs": [
    {
     "data": {
      "text/html": [
       "<div>\n",
       "<style scoped>\n",
       "    .dataframe tbody tr th:only-of-type {\n",
       "        vertical-align: middle;\n",
       "    }\n",
       "\n",
       "    .dataframe tbody tr th {\n",
       "        vertical-align: top;\n",
       "    }\n",
       "\n",
       "    .dataframe thead th {\n",
       "        text-align: right;\n",
       "    }\n",
       "</style>\n",
       "<table border=\"1\" class=\"dataframe\">\n",
       "  <thead>\n",
       "    <tr style=\"text-align: right;\">\n",
       "      <th></th>\n",
       "      <th>Player</th>\n",
       "      <th>Position</th>\n",
       "      <th>Height</th>\n",
       "      <th>Weight</th>\n",
       "      <th>Wingspan</th>\n",
       "    </tr>\n",
       "  </thead>\n",
       "  <tbody>\n",
       "    <tr>\n",
       "      <th>0</th>\n",
       "      <td>Kris Dunn</td>\n",
       "      <td>PG</td>\n",
       "      <td>6' 3''</td>\n",
       "      <td>0</td>\n",
       "      <td>6' 9.5''</td>\n",
       "    </tr>\n",
       "    <tr>\n",
       "      <th>1</th>\n",
       "      <td>Tyler Ulis</td>\n",
       "      <td>PG</td>\n",
       "      <td>5' 8.75''</td>\n",
       "      <td>149.2</td>\n",
       "      <td>6' 2''</td>\n",
       "    </tr>\n",
       "    <tr>\n",
       "      <th>2</th>\n",
       "      <td>John Lucas III</td>\n",
       "      <td>PG</td>\n",
       "      <td>5' 9.25''</td>\n",
       "      <td>154.4</td>\n",
       "      <td>6' 0''</td>\n",
       "    </tr>\n",
       "    <tr>\n",
       "      <th>3</th>\n",
       "      <td>Russ Smith</td>\n",
       "      <td>PG</td>\n",
       "      <td>5' 11.5''</td>\n",
       "      <td>160</td>\n",
       "      <td>6' 3.5''</td>\n",
       "    </tr>\n",
       "    <tr>\n",
       "      <th>4</th>\n",
       "      <td>Daryl Dorsey</td>\n",
       "      <td>PG</td>\n",
       "      <td>5' 11.25''</td>\n",
       "      <td>160.8</td>\n",
       "      <td>5' 11.5''</td>\n",
       "    </tr>\n",
       "  </tbody>\n",
       "</table>\n",
       "</div>"
      ],
      "text/plain": [
       "           Player Position      Height Weight   Wingspan\n",
       "0       Kris Dunn       PG      6' 3''      0   6' 9.5''\n",
       "1      Tyler Ulis       PG   5' 8.75''  149.2     6' 2''\n",
       "2  John Lucas III       PG   5' 9.25''  154.4     6' 0''\n",
       "3      Russ Smith       PG   5' 11.5''    160   6' 3.5''\n",
       "4    Daryl Dorsey       PG  5' 11.25''  160.8  5' 11.5''"
      ]
     },
     "execution_count": 3,
     "metadata": {},
     "output_type": "execute_result"
    }
   ],
   "source": [
    "# Only include the data we will be analysing\n",
    "nbadf = df[['Player', 'Position', 'Height', 'Weight', 'Wingspan']]\n",
    "nbadf.head()"
   ]
  },
  {
   "cell_type": "code",
   "execution_count": 4,
   "metadata": {},
   "outputs": [
    {
     "name": "stderr",
     "output_type": "stream",
     "text": [
      "<ipython-input-4-692b6f63b3c1>:2: SettingWithCopyWarning: \n",
      "A value is trying to be set on a copy of a slice from a DataFrame.\n",
      "Try using .loc[row_indexer,col_indexer] = value instead\n",
      "\n",
      "See the caveats in the documentation: https://pandas.pydata.org/pandas-docs/stable/user_guide/indexing.html#returning-a-view-versus-a-copy\n",
      "  nbadf['Height'] = nbadf.loc[:,'Height'].str.strip('\\'')\n",
      "<ipython-input-4-692b6f63b3c1>:3: SettingWithCopyWarning: \n",
      "A value is trying to be set on a copy of a slice from a DataFrame.\n",
      "Try using .loc[row_indexer,col_indexer] = value instead\n",
      "\n",
      "See the caveats in the documentation: https://pandas.pydata.org/pandas-docs/stable/user_guide/indexing.html#returning-a-view-versus-a-copy\n",
      "  nbadf['Wingspan'] = nbadf.loc[:,'Wingspan'].str.strip('\\'')\n"
     ]
    },
    {
     "data": {
      "text/html": [
       "<div>\n",
       "<style scoped>\n",
       "    .dataframe tbody tr th:only-of-type {\n",
       "        vertical-align: middle;\n",
       "    }\n",
       "\n",
       "    .dataframe tbody tr th {\n",
       "        vertical-align: top;\n",
       "    }\n",
       "\n",
       "    .dataframe thead th {\n",
       "        text-align: right;\n",
       "    }\n",
       "</style>\n",
       "<table border=\"1\" class=\"dataframe\">\n",
       "  <thead>\n",
       "    <tr style=\"text-align: right;\">\n",
       "      <th></th>\n",
       "      <th>Player</th>\n",
       "      <th>Position</th>\n",
       "      <th>Height</th>\n",
       "      <th>Weight</th>\n",
       "      <th>Wingspan</th>\n",
       "    </tr>\n",
       "  </thead>\n",
       "  <tbody>\n",
       "    <tr>\n",
       "      <th>0</th>\n",
       "      <td>Kris Dunn</td>\n",
       "      <td>PG</td>\n",
       "      <td>6' 3</td>\n",
       "      <td>0</td>\n",
       "      <td>6' 9.5</td>\n",
       "    </tr>\n",
       "    <tr>\n",
       "      <th>1</th>\n",
       "      <td>Tyler Ulis</td>\n",
       "      <td>PG</td>\n",
       "      <td>5' 8.75</td>\n",
       "      <td>149.2</td>\n",
       "      <td>6' 2</td>\n",
       "    </tr>\n",
       "    <tr>\n",
       "      <th>2</th>\n",
       "      <td>John Lucas III</td>\n",
       "      <td>PG</td>\n",
       "      <td>5' 9.25</td>\n",
       "      <td>154.4</td>\n",
       "      <td>6' 0</td>\n",
       "    </tr>\n",
       "    <tr>\n",
       "      <th>3</th>\n",
       "      <td>Russ Smith</td>\n",
       "      <td>PG</td>\n",
       "      <td>5' 11.5</td>\n",
       "      <td>160</td>\n",
       "      <td>6' 3.5</td>\n",
       "    </tr>\n",
       "    <tr>\n",
       "      <th>4</th>\n",
       "      <td>Daryl Dorsey</td>\n",
       "      <td>PG</td>\n",
       "      <td>5' 11.25</td>\n",
       "      <td>160.8</td>\n",
       "      <td>5' 11.5</td>\n",
       "    </tr>\n",
       "  </tbody>\n",
       "</table>\n",
       "</div>"
      ],
      "text/plain": [
       "           Player Position    Height Weight Wingspan\n",
       "0       Kris Dunn       PG      6' 3      0   6' 9.5\n",
       "1      Tyler Ulis       PG   5' 8.75  149.2     6' 2\n",
       "2  John Lucas III       PG   5' 9.25  154.4     6' 0\n",
       "3      Russ Smith       PG   5' 11.5    160   6' 3.5\n",
       "4    Daryl Dorsey       PG  5' 11.25  160.8  5' 11.5"
      ]
     },
     "execution_count": 4,
     "metadata": {},
     "output_type": "execute_result"
    }
   ],
   "source": [
    "# Strip '' from right side of Heights and Wingspans\n",
    "nbadf['Height'] = nbadf.loc[:,'Height'].str.strip('\\'')\n",
    "nbadf['Wingspan'] = nbadf.loc[:,'Wingspan'].str.strip('\\'')\n",
    "nbadf.head()"
   ]
  },
  {
   "cell_type": "code",
   "execution_count": 5,
   "metadata": {},
   "outputs": [
    {
     "name": "stderr",
     "output_type": "stream",
     "text": [
      "C:\\Users\\Admin\\anaconda3\\lib\\site-packages\\pandas\\core\\frame.py:3065: SettingWithCopyWarning: \n",
      "A value is trying to be set on a copy of a slice from a DataFrame.\n",
      "Try using .loc[row_indexer,col_indexer] = value instead\n",
      "\n",
      "See the caveats in the documentation: https://pandas.pydata.org/pandas-docs/stable/user_guide/indexing.html#returning-a-view-versus-a-copy\n",
      "  self[k1] = value[k2]\n"
     ]
    },
    {
     "data": {
      "text/html": [
       "<div>\n",
       "<style scoped>\n",
       "    .dataframe tbody tr th:only-of-type {\n",
       "        vertical-align: middle;\n",
       "    }\n",
       "\n",
       "    .dataframe tbody tr th {\n",
       "        vertical-align: top;\n",
       "    }\n",
       "\n",
       "    .dataframe thead th {\n",
       "        text-align: right;\n",
       "    }\n",
       "</style>\n",
       "<table border=\"1\" class=\"dataframe\">\n",
       "  <thead>\n",
       "    <tr style=\"text-align: right;\">\n",
       "      <th></th>\n",
       "      <th>Player</th>\n",
       "      <th>Position</th>\n",
       "      <th>Height</th>\n",
       "      <th>Weight</th>\n",
       "      <th>Wingspan</th>\n",
       "      <th>Height Feet</th>\n",
       "      <th>Height Inches</th>\n",
       "      <th>Wingspan Feet</th>\n",
       "      <th>Wingspan Inches</th>\n",
       "    </tr>\n",
       "  </thead>\n",
       "  <tbody>\n",
       "    <tr>\n",
       "      <th>0</th>\n",
       "      <td>Kris Dunn</td>\n",
       "      <td>PG</td>\n",
       "      <td>6' 3</td>\n",
       "      <td>0</td>\n",
       "      <td>6' 9.5</td>\n",
       "      <td>6</td>\n",
       "      <td>3</td>\n",
       "      <td>6</td>\n",
       "      <td>9.5</td>\n",
       "    </tr>\n",
       "    <tr>\n",
       "      <th>1</th>\n",
       "      <td>Tyler Ulis</td>\n",
       "      <td>PG</td>\n",
       "      <td>5' 8.75</td>\n",
       "      <td>149.2</td>\n",
       "      <td>6' 2</td>\n",
       "      <td>5</td>\n",
       "      <td>8.75</td>\n",
       "      <td>6</td>\n",
       "      <td>2</td>\n",
       "    </tr>\n",
       "    <tr>\n",
       "      <th>2</th>\n",
       "      <td>John Lucas III</td>\n",
       "      <td>PG</td>\n",
       "      <td>5' 9.25</td>\n",
       "      <td>154.4</td>\n",
       "      <td>6' 0</td>\n",
       "      <td>5</td>\n",
       "      <td>9.25</td>\n",
       "      <td>6</td>\n",
       "      <td>0</td>\n",
       "    </tr>\n",
       "    <tr>\n",
       "      <th>3</th>\n",
       "      <td>Russ Smith</td>\n",
       "      <td>PG</td>\n",
       "      <td>5' 11.5</td>\n",
       "      <td>160</td>\n",
       "      <td>6' 3.5</td>\n",
       "      <td>5</td>\n",
       "      <td>11.5</td>\n",
       "      <td>6</td>\n",
       "      <td>3.5</td>\n",
       "    </tr>\n",
       "    <tr>\n",
       "      <th>4</th>\n",
       "      <td>Daryl Dorsey</td>\n",
       "      <td>PG</td>\n",
       "      <td>5' 11.25</td>\n",
       "      <td>160.8</td>\n",
       "      <td>5' 11.5</td>\n",
       "      <td>5</td>\n",
       "      <td>11.25</td>\n",
       "      <td>5</td>\n",
       "      <td>11.5</td>\n",
       "    </tr>\n",
       "  </tbody>\n",
       "</table>\n",
       "</div>"
      ],
      "text/plain": [
       "           Player Position    Height Weight Wingspan Height Feet  \\\n",
       "0       Kris Dunn       PG      6' 3      0   6' 9.5           6   \n",
       "1      Tyler Ulis       PG   5' 8.75  149.2     6' 2           5   \n",
       "2  John Lucas III       PG   5' 9.25  154.4     6' 0           5   \n",
       "3      Russ Smith       PG   5' 11.5    160   6' 3.5           5   \n",
       "4    Daryl Dorsey       PG  5' 11.25  160.8  5' 11.5           5   \n",
       "\n",
       "  Height Inches Wingspan Feet Wingspan Inches  \n",
       "0             3             6             9.5  \n",
       "1          8.75             6               2  \n",
       "2          9.25             6               0  \n",
       "3          11.5             6             3.5  \n",
       "4         11.25             5            11.5  "
      ]
     },
     "execution_count": 5,
     "metadata": {},
     "output_type": "execute_result"
    }
   ],
   "source": [
    "# https://pandas.pydata.org/docs/reference/api/pandas.Series.str.split.html\n",
    "# Use string split to seperate feet and inches\n",
    "\n",
    "nbadf[['Height Feet','Height Inches']] = nbadf.Height.str.split('\\'', expand = True)\n",
    "nbadf[['Wingspan Feet','Wingspan Inches']] = nbadf.Wingspan.str.split('\\'', expand = True)\n",
    "nbadf.head()"
   ]
  },
  {
   "cell_type": "code",
   "execution_count": 6,
   "metadata": {},
   "outputs": [
    {
     "name": "stderr",
     "output_type": "stream",
     "text": [
      "<ipython-input-6-0bc900549f9d>:3: SettingWithCopyWarning: \n",
      "A value is trying to be set on a copy of a slice from a DataFrame.\n",
      "Try using .loc[row_indexer,col_indexer] = value instead\n",
      "\n",
      "See the caveats in the documentation: https://pandas.pydata.org/pandas-docs/stable/user_guide/indexing.html#returning-a-view-versus-a-copy\n",
      "  nbadf['Height'] = pd.to_numeric(nbadf['Height Feet']) * 30.48 + pd.to_numeric(nbadf['Height Inches']) * 2.54\n",
      "<ipython-input-6-0bc900549f9d>:4: SettingWithCopyWarning: \n",
      "A value is trying to be set on a copy of a slice from a DataFrame.\n",
      "Try using .loc[row_indexer,col_indexer] = value instead\n",
      "\n",
      "See the caveats in the documentation: https://pandas.pydata.org/pandas-docs/stable/user_guide/indexing.html#returning-a-view-versus-a-copy\n",
      "  nbadf['Wingspan'] = pd.to_numeric(nbadf['Wingspan Feet']) * 30.48 + pd.to_numeric(nbadf['Wingspan Inches']) * 2.54\n"
     ]
    },
    {
     "data": {
      "text/html": [
       "<div>\n",
       "<style scoped>\n",
       "    .dataframe tbody tr th:only-of-type {\n",
       "        vertical-align: middle;\n",
       "    }\n",
       "\n",
       "    .dataframe tbody tr th {\n",
       "        vertical-align: top;\n",
       "    }\n",
       "\n",
       "    .dataframe thead th {\n",
       "        text-align: right;\n",
       "    }\n",
       "</style>\n",
       "<table border=\"1\" class=\"dataframe\">\n",
       "  <thead>\n",
       "    <tr style=\"text-align: right;\">\n",
       "      <th></th>\n",
       "      <th>Player</th>\n",
       "      <th>Position</th>\n",
       "      <th>Height</th>\n",
       "      <th>Weight</th>\n",
       "      <th>Wingspan</th>\n",
       "      <th>Height Feet</th>\n",
       "      <th>Height Inches</th>\n",
       "      <th>Wingspan Feet</th>\n",
       "      <th>Wingspan Inches</th>\n",
       "    </tr>\n",
       "  </thead>\n",
       "  <tbody>\n",
       "    <tr>\n",
       "      <th>0</th>\n",
       "      <td>Kris Dunn</td>\n",
       "      <td>PG</td>\n",
       "      <td>190.500</td>\n",
       "      <td>0</td>\n",
       "      <td>207.01</td>\n",
       "      <td>6</td>\n",
       "      <td>3</td>\n",
       "      <td>6</td>\n",
       "      <td>9.5</td>\n",
       "    </tr>\n",
       "    <tr>\n",
       "      <th>1</th>\n",
       "      <td>Tyler Ulis</td>\n",
       "      <td>PG</td>\n",
       "      <td>174.625</td>\n",
       "      <td>149.2</td>\n",
       "      <td>187.96</td>\n",
       "      <td>5</td>\n",
       "      <td>8.75</td>\n",
       "      <td>6</td>\n",
       "      <td>2</td>\n",
       "    </tr>\n",
       "    <tr>\n",
       "      <th>2</th>\n",
       "      <td>John Lucas III</td>\n",
       "      <td>PG</td>\n",
       "      <td>175.895</td>\n",
       "      <td>154.4</td>\n",
       "      <td>182.88</td>\n",
       "      <td>5</td>\n",
       "      <td>9.25</td>\n",
       "      <td>6</td>\n",
       "      <td>0</td>\n",
       "    </tr>\n",
       "    <tr>\n",
       "      <th>3</th>\n",
       "      <td>Russ Smith</td>\n",
       "      <td>PG</td>\n",
       "      <td>181.610</td>\n",
       "      <td>160</td>\n",
       "      <td>191.77</td>\n",
       "      <td>5</td>\n",
       "      <td>11.5</td>\n",
       "      <td>6</td>\n",
       "      <td>3.5</td>\n",
       "    </tr>\n",
       "    <tr>\n",
       "      <th>4</th>\n",
       "      <td>Daryl Dorsey</td>\n",
       "      <td>PG</td>\n",
       "      <td>180.975</td>\n",
       "      <td>160.8</td>\n",
       "      <td>181.61</td>\n",
       "      <td>5</td>\n",
       "      <td>11.25</td>\n",
       "      <td>5</td>\n",
       "      <td>11.5</td>\n",
       "    </tr>\n",
       "  </tbody>\n",
       "</table>\n",
       "</div>"
      ],
      "text/plain": [
       "           Player Position   Height Weight  Wingspan Height Feet  \\\n",
       "0       Kris Dunn       PG  190.500      0    207.01           6   \n",
       "1      Tyler Ulis       PG  174.625  149.2    187.96           5   \n",
       "2  John Lucas III       PG  175.895  154.4    182.88           5   \n",
       "3      Russ Smith       PG  181.610    160    191.77           5   \n",
       "4    Daryl Dorsey       PG  180.975  160.8    181.61           5   \n",
       "\n",
       "  Height Inches Wingspan Feet Wingspan Inches  \n",
       "0             3             6             9.5  \n",
       "1          8.75             6               2  \n",
       "2          9.25             6               0  \n",
       "3          11.5             6             3.5  \n",
       "4         11.25             5            11.5  "
      ]
     },
     "execution_count": 6,
     "metadata": {},
     "output_type": "execute_result"
    }
   ],
   "source": [
    "# https://pandas.pydata.org/docs/reference/api/pandas.to_numeric.html\n",
    "# Use to numeric to convert column to ints / floats and calculate based on 1 foot = 40.48cm and 1 inch = 2.54cm\n",
    "nbadf['Height'] = pd.to_numeric(nbadf['Height Feet']) * 30.48 + pd.to_numeric(nbadf['Height Inches']) * 2.54\n",
    "nbadf['Wingspan'] = pd.to_numeric(nbadf['Wingspan Feet']) * 30.48 + pd.to_numeric(nbadf['Wingspan Inches']) * 2.54\n",
    "nbadf.head()"
   ]
  },
  {
   "cell_type": "code",
   "execution_count": 7,
   "metadata": {},
   "outputs": [
    {
     "name": "stderr",
     "output_type": "stream",
     "text": [
      "C:\\Users\\Admin\\anaconda3\\lib\\site-packages\\pandas\\core\\indexing.py:1745: SettingWithCopyWarning: \n",
      "A value is trying to be set on a copy of a slice from a DataFrame.\n",
      "Try using .loc[row_indexer,col_indexer] = value instead\n",
      "\n",
      "See the caveats in the documentation: https://pandas.pydata.org/pandas-docs/stable/user_guide/indexing.html#returning-a-view-versus-a-copy\n",
      "  isetter(ilocs[0], value)\n"
     ]
    }
   ],
   "source": [
    "# Remove '-' characters from Weight column\n",
    "nbadf.loc[:,'Weight'] = nbadf.loc[:,'Weight'].str.strip('-')"
   ]
  },
  {
   "cell_type": "code",
   "execution_count": 8,
   "metadata": {},
   "outputs": [
    {
     "name": "stderr",
     "output_type": "stream",
     "text": [
      "<ipython-input-8-3cbebf5b53db>:2: SettingWithCopyWarning: \n",
      "A value is trying to be set on a copy of a slice from a DataFrame.\n",
      "Try using .loc[row_indexer,col_indexer] = value instead\n",
      "\n",
      "See the caveats in the documentation: https://pandas.pydata.org/pandas-docs/stable/user_guide/indexing.html#returning-a-view-versus-a-copy\n",
      "  nbadf['Weight'] = pd.to_numeric(nbadf['Weight'])*0.4536\n"
     ]
    },
    {
     "data": {
      "text/html": [
       "<div>\n",
       "<style scoped>\n",
       "    .dataframe tbody tr th:only-of-type {\n",
       "        vertical-align: middle;\n",
       "    }\n",
       "\n",
       "    .dataframe tbody tr th {\n",
       "        vertical-align: top;\n",
       "    }\n",
       "\n",
       "    .dataframe thead th {\n",
       "        text-align: right;\n",
       "    }\n",
       "</style>\n",
       "<table border=\"1\" class=\"dataframe\">\n",
       "  <thead>\n",
       "    <tr style=\"text-align: right;\">\n",
       "      <th></th>\n",
       "      <th>Player</th>\n",
       "      <th>Position</th>\n",
       "      <th>Height</th>\n",
       "      <th>Weight</th>\n",
       "      <th>Wingspan</th>\n",
       "      <th>Height Feet</th>\n",
       "      <th>Height Inches</th>\n",
       "      <th>Wingspan Feet</th>\n",
       "      <th>Wingspan Inches</th>\n",
       "    </tr>\n",
       "  </thead>\n",
       "  <tbody>\n",
       "    <tr>\n",
       "      <th>0</th>\n",
       "      <td>Kris Dunn</td>\n",
       "      <td>PG</td>\n",
       "      <td>190.500</td>\n",
       "      <td>0.00000</td>\n",
       "      <td>207.01</td>\n",
       "      <td>6</td>\n",
       "      <td>3</td>\n",
       "      <td>6</td>\n",
       "      <td>9.5</td>\n",
       "    </tr>\n",
       "    <tr>\n",
       "      <th>1</th>\n",
       "      <td>Tyler Ulis</td>\n",
       "      <td>PG</td>\n",
       "      <td>174.625</td>\n",
       "      <td>67.67712</td>\n",
       "      <td>187.96</td>\n",
       "      <td>5</td>\n",
       "      <td>8.75</td>\n",
       "      <td>6</td>\n",
       "      <td>2</td>\n",
       "    </tr>\n",
       "    <tr>\n",
       "      <th>2</th>\n",
       "      <td>John Lucas III</td>\n",
       "      <td>PG</td>\n",
       "      <td>175.895</td>\n",
       "      <td>70.03584</td>\n",
       "      <td>182.88</td>\n",
       "      <td>5</td>\n",
       "      <td>9.25</td>\n",
       "      <td>6</td>\n",
       "      <td>0</td>\n",
       "    </tr>\n",
       "    <tr>\n",
       "      <th>3</th>\n",
       "      <td>Russ Smith</td>\n",
       "      <td>PG</td>\n",
       "      <td>181.610</td>\n",
       "      <td>72.57600</td>\n",
       "      <td>191.77</td>\n",
       "      <td>5</td>\n",
       "      <td>11.5</td>\n",
       "      <td>6</td>\n",
       "      <td>3.5</td>\n",
       "    </tr>\n",
       "    <tr>\n",
       "      <th>4</th>\n",
       "      <td>Daryl Dorsey</td>\n",
       "      <td>PG</td>\n",
       "      <td>180.975</td>\n",
       "      <td>72.93888</td>\n",
       "      <td>181.61</td>\n",
       "      <td>5</td>\n",
       "      <td>11.25</td>\n",
       "      <td>5</td>\n",
       "      <td>11.5</td>\n",
       "    </tr>\n",
       "  </tbody>\n",
       "</table>\n",
       "</div>"
      ],
      "text/plain": [
       "           Player Position   Height    Weight  Wingspan Height Feet  \\\n",
       "0       Kris Dunn       PG  190.500   0.00000    207.01           6   \n",
       "1      Tyler Ulis       PG  174.625  67.67712    187.96           5   \n",
       "2  John Lucas III       PG  175.895  70.03584    182.88           5   \n",
       "3      Russ Smith       PG  181.610  72.57600    191.77           5   \n",
       "4    Daryl Dorsey       PG  180.975  72.93888    181.61           5   \n",
       "\n",
       "  Height Inches Wingspan Feet Wingspan Inches  \n",
       "0             3             6             9.5  \n",
       "1          8.75             6               2  \n",
       "2          9.25             6               0  \n",
       "3          11.5             6             3.5  \n",
       "4         11.25             5            11.5  "
      ]
     },
     "execution_count": 8,
     "metadata": {},
     "output_type": "execute_result"
    }
   ],
   "source": [
    "# Convert weight to kg using 1 pound = 0.4536kg\n",
    "nbadf['Weight'] = pd.to_numeric(nbadf['Weight'])*0.4536\n",
    "nbadf.head()"
   ]
  },
  {
   "cell_type": "code",
   "execution_count": 9,
   "metadata": {},
   "outputs": [
    {
     "data": {
      "text/html": [
       "<div>\n",
       "<style scoped>\n",
       "    .dataframe tbody tr th:only-of-type {\n",
       "        vertical-align: middle;\n",
       "    }\n",
       "\n",
       "    .dataframe tbody tr th {\n",
       "        vertical-align: top;\n",
       "    }\n",
       "\n",
       "    .dataframe thead th {\n",
       "        text-align: right;\n",
       "    }\n",
       "</style>\n",
       "<table border=\"1\" class=\"dataframe\">\n",
       "  <thead>\n",
       "    <tr style=\"text-align: right;\">\n",
       "      <th></th>\n",
       "      <th>Player</th>\n",
       "      <th>Position</th>\n",
       "      <th>Height</th>\n",
       "      <th>Weight</th>\n",
       "      <th>Wingspan</th>\n",
       "    </tr>\n",
       "  </thead>\n",
       "  <tbody>\n",
       "    <tr>\n",
       "      <th>0</th>\n",
       "      <td>Kris Dunn</td>\n",
       "      <td>PG</td>\n",
       "      <td>190.500</td>\n",
       "      <td>0.00000</td>\n",
       "      <td>207.01</td>\n",
       "    </tr>\n",
       "    <tr>\n",
       "      <th>1</th>\n",
       "      <td>Tyler Ulis</td>\n",
       "      <td>PG</td>\n",
       "      <td>174.625</td>\n",
       "      <td>67.67712</td>\n",
       "      <td>187.96</td>\n",
       "    </tr>\n",
       "    <tr>\n",
       "      <th>2</th>\n",
       "      <td>John Lucas III</td>\n",
       "      <td>PG</td>\n",
       "      <td>175.895</td>\n",
       "      <td>70.03584</td>\n",
       "      <td>182.88</td>\n",
       "    </tr>\n",
       "    <tr>\n",
       "      <th>3</th>\n",
       "      <td>Russ Smith</td>\n",
       "      <td>PG</td>\n",
       "      <td>181.610</td>\n",
       "      <td>72.57600</td>\n",
       "      <td>191.77</td>\n",
       "    </tr>\n",
       "    <tr>\n",
       "      <th>4</th>\n",
       "      <td>Daryl Dorsey</td>\n",
       "      <td>PG</td>\n",
       "      <td>180.975</td>\n",
       "      <td>72.93888</td>\n",
       "      <td>181.61</td>\n",
       "    </tr>\n",
       "  </tbody>\n",
       "</table>\n",
       "</div>"
      ],
      "text/plain": [
       "           Player Position   Height    Weight  Wingspan\n",
       "0       Kris Dunn       PG  190.500   0.00000    207.01\n",
       "1      Tyler Ulis       PG  174.625  67.67712    187.96\n",
       "2  John Lucas III       PG  175.895  70.03584    182.88\n",
       "3      Russ Smith       PG  181.610  72.57600    191.77\n",
       "4    Daryl Dorsey       PG  180.975  72.93888    181.61"
      ]
     },
     "execution_count": 9,
     "metadata": {},
     "output_type": "execute_result"
    }
   ],
   "source": [
    "nbadf = nbadf[['Player', 'Position', 'Height', 'Weight', 'Wingspan']]\n",
    "nbadf.head()"
   ]
  },
  {
   "cell_type": "code",
   "execution_count": 10,
   "metadata": {},
   "outputs": [
    {
     "name": "stdout",
     "output_type": "stream",
     "text": [
      "Player      1169\n",
      "Position    1164\n",
      "Height      1156\n",
      "Weight      1155\n",
      "Wingspan    1157\n",
      "dtype: int64\n"
     ]
    },
    {
     "data": {
      "text/plain": [
       "Player      1154\n",
       "Position    1154\n",
       "Height      1154\n",
       "Weight      1154\n",
       "Wingspan    1154\n",
       "dtype: int64"
      ]
     },
     "execution_count": 10,
     "metadata": {},
     "output_type": "execute_result"
    }
   ],
   "source": [
    "# Remove NaNs and 0 values\n",
    "# https://pandas.pydata.org/docs/reference/api/pandas.DataFrame.dropna.html\n",
    "\n",
    "# Only first row has a 0 value so that row will be removed\n",
    "nbadf = nbadf.loc[1:,:]\n",
    "\n",
    "# Count rows before drop\n",
    "print(nbadf.count())\n",
    "\n",
    "# inplace = True to drop from original df\n",
    "nbadf.dropna(inplace=True)\n",
    "\n",
    "# Count rows after drop\n",
    "nbadf.count()"
   ]
  },
  {
   "cell_type": "code",
   "execution_count": 11,
   "metadata": {},
   "outputs": [
    {
     "data": {
      "text/html": [
       "<div>\n",
       "<style scoped>\n",
       "    .dataframe tbody tr th:only-of-type {\n",
       "        vertical-align: middle;\n",
       "    }\n",
       "\n",
       "    .dataframe tbody tr th {\n",
       "        vertical-align: top;\n",
       "    }\n",
       "\n",
       "    .dataframe thead th {\n",
       "        text-align: right;\n",
       "    }\n",
       "</style>\n",
       "<table border=\"1\" class=\"dataframe\">\n",
       "  <thead>\n",
       "    <tr style=\"text-align: right;\">\n",
       "      <th></th>\n",
       "      <th>Player</th>\n",
       "      <th>Position</th>\n",
       "      <th>Height</th>\n",
       "      <th>Weight</th>\n",
       "      <th>Wingspan</th>\n",
       "    </tr>\n",
       "  </thead>\n",
       "  <tbody>\n",
       "    <tr>\n",
       "      <th>1</th>\n",
       "      <td>Tyler Ulis</td>\n",
       "      <td>PG</td>\n",
       "      <td>174.625</td>\n",
       "      <td>67.67712</td>\n",
       "      <td>187.96</td>\n",
       "    </tr>\n",
       "    <tr>\n",
       "      <th>2</th>\n",
       "      <td>John Lucas III</td>\n",
       "      <td>PG</td>\n",
       "      <td>175.895</td>\n",
       "      <td>70.03584</td>\n",
       "      <td>182.88</td>\n",
       "    </tr>\n",
       "    <tr>\n",
       "      <th>3</th>\n",
       "      <td>Russ Smith</td>\n",
       "      <td>PG</td>\n",
       "      <td>181.610</td>\n",
       "      <td>72.57600</td>\n",
       "      <td>191.77</td>\n",
       "    </tr>\n",
       "    <tr>\n",
       "      <th>4</th>\n",
       "      <td>Daryl Dorsey</td>\n",
       "      <td>PG</td>\n",
       "      <td>180.975</td>\n",
       "      <td>72.93888</td>\n",
       "      <td>181.61</td>\n",
       "    </tr>\n",
       "    <tr>\n",
       "      <th>5</th>\n",
       "      <td>Aaron Brooks</td>\n",
       "      <td>PG</td>\n",
       "      <td>177.800</td>\n",
       "      <td>73.02960</td>\n",
       "      <td>193.04</td>\n",
       "    </tr>\n",
       "  </tbody>\n",
       "</table>\n",
       "</div>"
      ],
      "text/plain": [
       "           Player Position   Height    Weight  Wingspan\n",
       "1      Tyler Ulis       PG  174.625  67.67712    187.96\n",
       "2  John Lucas III       PG  175.895  70.03584    182.88\n",
       "3      Russ Smith       PG  181.610  72.57600    191.77\n",
       "4    Daryl Dorsey       PG  180.975  72.93888    181.61\n",
       "5    Aaron Brooks       PG  177.800  73.02960    193.04"
      ]
     },
     "execution_count": 11,
     "metadata": {},
     "output_type": "execute_result"
    }
   ],
   "source": [
    "nbadf.head()"
   ]
  },
  {
   "cell_type": "markdown",
   "metadata": {},
   "source": [
    "## Player Minutes Data"
   ]
  },
  {
   "cell_type": "markdown",
   "metadata": {},
   "source": [
    "The source of the player performance data in this analysis was [BasketballReference.com](https://www.basketball-reference.com/), a great site for NBA stats. The data used will be performance data from the 2020/2021 NBA season which was the last full season played. We will be looking at the top players in minutes played for the season and their positions. While both datasets will have positions for the players, the position data for BasketballReference will be used as it will be more accurate to the players' current positions."
   ]
  },
  {
   "cell_type": "markdown",
   "metadata": {},
   "source": [
    "To get the data into a dataframe, the data was exported into excel format directly from the site, sorted by minuted played. Then players outside the top 300 were removed and the 'rank' column that ranked players based on minutes played was also removed. The excel was then saved as a csv."
   ]
  },
  {
   "cell_type": "code",
   "execution_count": 12,
   "metadata": {},
   "outputs": [
    {
     "data": {
      "text/html": [
       "<div>\n",
       "<style scoped>\n",
       "    .dataframe tbody tr th:only-of-type {\n",
       "        vertical-align: middle;\n",
       "    }\n",
       "\n",
       "    .dataframe tbody tr th {\n",
       "        vertical-align: top;\n",
       "    }\n",
       "\n",
       "    .dataframe thead th {\n",
       "        text-align: right;\n",
       "    }\n",
       "</style>\n",
       "<table border=\"1\" class=\"dataframe\">\n",
       "  <thead>\n",
       "    <tr style=\"text-align: right;\">\n",
       "      <th></th>\n",
       "      <th>Player</th>\n",
       "      <th>Pos</th>\n",
       "      <th>Age</th>\n",
       "      <th>Tm</th>\n",
       "      <th>G</th>\n",
       "      <th>GS</th>\n",
       "      <th>MP</th>\n",
       "      <th>FG</th>\n",
       "      <th>FGA</th>\n",
       "      <th>FG%</th>\n",
       "      <th>...</th>\n",
       "      <th>FT%</th>\n",
       "      <th>ORB</th>\n",
       "      <th>DRB</th>\n",
       "      <th>TRB</th>\n",
       "      <th>AST</th>\n",
       "      <th>STL</th>\n",
       "      <th>BLK</th>\n",
       "      <th>TOV</th>\n",
       "      <th>PF</th>\n",
       "      <th>PTS</th>\n",
       "    </tr>\n",
       "  </thead>\n",
       "  <tbody>\n",
       "    <tr>\n",
       "      <th>0</th>\n",
       "      <td>Julius Randle</td>\n",
       "      <td>PF</td>\n",
       "      <td>26</td>\n",
       "      <td>NYK</td>\n",
       "      <td>71</td>\n",
       "      <td>71</td>\n",
       "      <td>2667</td>\n",
       "      <td>8.1</td>\n",
       "      <td>17.8</td>\n",
       "      <td>0.456</td>\n",
       "      <td>...</td>\n",
       "      <td>0.811</td>\n",
       "      <td>1.1</td>\n",
       "      <td>8.6</td>\n",
       "      <td>9.8</td>\n",
       "      <td>5.8</td>\n",
       "      <td>0.9</td>\n",
       "      <td>0.2</td>\n",
       "      <td>3.3</td>\n",
       "      <td>3.0</td>\n",
       "      <td>23.1</td>\n",
       "    </tr>\n",
       "    <tr>\n",
       "      <th>1</th>\n",
       "      <td>RJ Barrett</td>\n",
       "      <td>SG</td>\n",
       "      <td>20</td>\n",
       "      <td>NYK</td>\n",
       "      <td>72</td>\n",
       "      <td>72</td>\n",
       "      <td>2511</td>\n",
       "      <td>6.7</td>\n",
       "      <td>15.2</td>\n",
       "      <td>0.441</td>\n",
       "      <td>...</td>\n",
       "      <td>0.746</td>\n",
       "      <td>1.0</td>\n",
       "      <td>5.0</td>\n",
       "      <td>5.9</td>\n",
       "      <td>3.1</td>\n",
       "      <td>0.8</td>\n",
       "      <td>0.3</td>\n",
       "      <td>2.0</td>\n",
       "      <td>2.7</td>\n",
       "      <td>18.1</td>\n",
       "    </tr>\n",
       "    <tr>\n",
       "      <th>2</th>\n",
       "      <td>Nikola Jokić</td>\n",
       "      <td>C</td>\n",
       "      <td>25</td>\n",
       "      <td>DEN</td>\n",
       "      <td>72</td>\n",
       "      <td>72</td>\n",
       "      <td>2488</td>\n",
       "      <td>10.6</td>\n",
       "      <td>18.7</td>\n",
       "      <td>0.566</td>\n",
       "      <td>...</td>\n",
       "      <td>0.868</td>\n",
       "      <td>3.0</td>\n",
       "      <td>8.3</td>\n",
       "      <td>11.3</td>\n",
       "      <td>8.7</td>\n",
       "      <td>1.4</td>\n",
       "      <td>0.7</td>\n",
       "      <td>3.2</td>\n",
       "      <td>2.8</td>\n",
       "      <td>27.5</td>\n",
       "    </tr>\n",
       "    <tr>\n",
       "      <th>3</th>\n",
       "      <td>Buddy Hield</td>\n",
       "      <td>SG</td>\n",
       "      <td>28</td>\n",
       "      <td>SAC</td>\n",
       "      <td>71</td>\n",
       "      <td>71</td>\n",
       "      <td>2433</td>\n",
       "      <td>6.0</td>\n",
       "      <td>14.7</td>\n",
       "      <td>0.406</td>\n",
       "      <td>...</td>\n",
       "      <td>0.846</td>\n",
       "      <td>0.4</td>\n",
       "      <td>4.5</td>\n",
       "      <td>4.9</td>\n",
       "      <td>3.8</td>\n",
       "      <td>0.9</td>\n",
       "      <td>0.4</td>\n",
       "      <td>1.9</td>\n",
       "      <td>2.6</td>\n",
       "      <td>17.4</td>\n",
       "    </tr>\n",
       "    <tr>\n",
       "      <th>4</th>\n",
       "      <td>Damian Lillard</td>\n",
       "      <td>PG</td>\n",
       "      <td>30</td>\n",
       "      <td>POR</td>\n",
       "      <td>67</td>\n",
       "      <td>67</td>\n",
       "      <td>2398</td>\n",
       "      <td>9.0</td>\n",
       "      <td>20.0</td>\n",
       "      <td>0.451</td>\n",
       "      <td>...</td>\n",
       "      <td>0.928</td>\n",
       "      <td>0.5</td>\n",
       "      <td>3.8</td>\n",
       "      <td>4.2</td>\n",
       "      <td>7.6</td>\n",
       "      <td>0.9</td>\n",
       "      <td>0.3</td>\n",
       "      <td>3.0</td>\n",
       "      <td>1.5</td>\n",
       "      <td>28.9</td>\n",
       "    </tr>\n",
       "  </tbody>\n",
       "</table>\n",
       "<p>5 rows × 28 columns</p>\n",
       "</div>"
      ],
      "text/plain": [
       "           Player Pos  Age   Tm   G  GS    MP    FG   FGA    FG%  ...    FT%  \\\n",
       "0   Julius Randle  PF   26  NYK  71  71  2667   8.1  17.8  0.456  ...  0.811   \n",
       "1      RJ Barrett  SG   20  NYK  72  72  2511   6.7  15.2  0.441  ...  0.746   \n",
       "2    Nikola Jokić   C   25  DEN  72  72  2488  10.6  18.7  0.566  ...  0.868   \n",
       "3     Buddy Hield  SG   28  SAC  71  71  2433   6.0  14.7  0.406  ...  0.846   \n",
       "4  Damian Lillard  PG   30  POR  67  67  2398   9.0  20.0  0.451  ...  0.928   \n",
       "\n",
       "   ORB  DRB   TRB  AST  STL  BLK  TOV   PF   PTS  \n",
       "0  1.1  8.6   9.8  5.8  0.9  0.2  3.3  3.0  23.1  \n",
       "1  1.0  5.0   5.9  3.1  0.8  0.3  2.0  2.7  18.1  \n",
       "2  3.0  8.3  11.3  8.7  1.4  0.7  3.2  2.8  27.5  \n",
       "3  0.4  4.5   4.9  3.8  0.9  0.4  1.9  2.6  17.4  \n",
       "4  0.5  3.8   4.2  7.6  0.9  0.3  3.0  1.5  28.9  \n",
       "\n",
       "[5 rows x 28 columns]"
      ]
     },
     "execution_count": 12,
     "metadata": {},
     "output_type": "execute_result"
    }
   ],
   "source": [
    "# Skips first row to skip headers in original doc\n",
    "df = pd.read_csv('Player_Performance_20_21.csv')\n",
    "df.head()"
   ]
  },
  {
   "cell_type": "code",
   "execution_count": 13,
   "metadata": {},
   "outputs": [],
   "source": [
    "# Filter df by columns that we want\n",
    "ppdf = df[[\"Player\", \"Pos\"]]"
   ]
  },
  {
   "cell_type": "code",
   "execution_count": 14,
   "metadata": {},
   "outputs": [
    {
     "data": {
      "text/html": [
       "<div>\n",
       "<style scoped>\n",
       "    .dataframe tbody tr th:only-of-type {\n",
       "        vertical-align: middle;\n",
       "    }\n",
       "\n",
       "    .dataframe tbody tr th {\n",
       "        vertical-align: top;\n",
       "    }\n",
       "\n",
       "    .dataframe thead th {\n",
       "        text-align: right;\n",
       "    }\n",
       "</style>\n",
       "<table border=\"1\" class=\"dataframe\">\n",
       "  <thead>\n",
       "    <tr style=\"text-align: right;\">\n",
       "      <th></th>\n",
       "      <th>Player</th>\n",
       "      <th>Pos</th>\n",
       "    </tr>\n",
       "  </thead>\n",
       "  <tbody>\n",
       "    <tr>\n",
       "      <th>0</th>\n",
       "      <td>Julius Randle</td>\n",
       "      <td>PF</td>\n",
       "    </tr>\n",
       "    <tr>\n",
       "      <th>1</th>\n",
       "      <td>RJ Barrett</td>\n",
       "      <td>SG</td>\n",
       "    </tr>\n",
       "    <tr>\n",
       "      <th>2</th>\n",
       "      <td>Nikola Jokić</td>\n",
       "      <td>C</td>\n",
       "    </tr>\n",
       "    <tr>\n",
       "      <th>3</th>\n",
       "      <td>Buddy Hield</td>\n",
       "      <td>SG</td>\n",
       "    </tr>\n",
       "    <tr>\n",
       "      <th>4</th>\n",
       "      <td>Damian Lillard</td>\n",
       "      <td>PG</td>\n",
       "    </tr>\n",
       "  </tbody>\n",
       "</table>\n",
       "</div>"
      ],
      "text/plain": [
       "           Player Pos\n",
       "0   Julius Randle  PF\n",
       "1      RJ Barrett  SG\n",
       "2    Nikola Jokić   C\n",
       "3     Buddy Hield  SG\n",
       "4  Damian Lillard  PG"
      ]
     },
     "execution_count": 14,
     "metadata": {},
     "output_type": "execute_result"
    }
   ],
   "source": [
    "ppdf.head()"
   ]
  },
  {
   "cell_type": "markdown",
   "metadata": {},
   "source": [
    "#### Secondary Positions\n",
    "Some player have secondary positions on Bballref.com e.g. Centre-Power Forward. For the purposes of this analysis, we will be taking the first position listed as the player's primary position."
   ]
  },
  {
   "cell_type": "code",
   "execution_count": 15,
   "metadata": {},
   "outputs": [
    {
     "data": {
      "text/plain": [
       "Player    Norman Powell\n",
       "Pos               SG-SF\n",
       "Name: 20, dtype: object"
      ]
     },
     "execution_count": 15,
     "metadata": {},
     "output_type": "execute_result"
    }
   ],
   "source": [
    "ppdf.iloc[20]"
   ]
  },
  {
   "cell_type": "code",
   "execution_count": 16,
   "metadata": {},
   "outputs": [
    {
     "name": "stderr",
     "output_type": "stream",
     "text": [
      "<ipython-input-16-56a20e42e5c3>:1: SettingWithCopyWarning: \n",
      "A value is trying to be set on a copy of a slice from a DataFrame.\n",
      "Try using .loc[row_indexer,col_indexer] = value instead\n",
      "\n",
      "See the caveats in the documentation: https://pandas.pydata.org/pandas-docs/stable/user_guide/indexing.html#returning-a-view-versus-a-copy\n",
      "  ppdf['Pos'] = ppdf.Pos.str.split('\\-', expand = True)\n"
     ]
    }
   ],
   "source": [
    "ppdf['Pos'] = ppdf.Pos.str.split('\\-', expand = True)"
   ]
  },
  {
   "cell_type": "code",
   "execution_count": 17,
   "metadata": {},
   "outputs": [
    {
     "data": {
      "text/html": [
       "<div>\n",
       "<style scoped>\n",
       "    .dataframe tbody tr th:only-of-type {\n",
       "        vertical-align: middle;\n",
       "    }\n",
       "\n",
       "    .dataframe tbody tr th {\n",
       "        vertical-align: top;\n",
       "    }\n",
       "\n",
       "    .dataframe thead th {\n",
       "        text-align: right;\n",
       "    }\n",
       "</style>\n",
       "<table border=\"1\" class=\"dataframe\">\n",
       "  <thead>\n",
       "    <tr style=\"text-align: right;\">\n",
       "      <th></th>\n",
       "      <th>Player</th>\n",
       "      <th>Pos</th>\n",
       "    </tr>\n",
       "  </thead>\n",
       "  <tbody>\n",
       "    <tr>\n",
       "      <th>0</th>\n",
       "      <td>Julius Randle</td>\n",
       "      <td>PF</td>\n",
       "    </tr>\n",
       "    <tr>\n",
       "      <th>1</th>\n",
       "      <td>RJ Barrett</td>\n",
       "      <td>SG</td>\n",
       "    </tr>\n",
       "    <tr>\n",
       "      <th>2</th>\n",
       "      <td>Nikola Jokić</td>\n",
       "      <td>C</td>\n",
       "    </tr>\n",
       "    <tr>\n",
       "      <th>3</th>\n",
       "      <td>Buddy Hield</td>\n",
       "      <td>SG</td>\n",
       "    </tr>\n",
       "    <tr>\n",
       "      <th>4</th>\n",
       "      <td>Damian Lillard</td>\n",
       "      <td>PG</td>\n",
       "    </tr>\n",
       "  </tbody>\n",
       "</table>\n",
       "</div>"
      ],
      "text/plain": [
       "           Player Pos\n",
       "0   Julius Randle  PF\n",
       "1      RJ Barrett  SG\n",
       "2    Nikola Jokić   C\n",
       "3     Buddy Hield  SG\n",
       "4  Damian Lillard  PG"
      ]
     },
     "execution_count": 17,
     "metadata": {},
     "output_type": "execute_result"
    }
   ],
   "source": [
    "ppdf.head()"
   ]
  },
  {
   "cell_type": "code",
   "execution_count": 18,
   "metadata": {},
   "outputs": [
    {
     "data": {
      "text/plain": [
       "Player    Norman Powell\n",
       "Pos                  SG\n",
       "Name: 20, dtype: object"
      ]
     },
     "execution_count": 18,
     "metadata": {},
     "output_type": "execute_result"
    }
   ],
   "source": [
    "ppdf.iloc[20]"
   ]
  },
  {
   "cell_type": "markdown",
   "metadata": {},
   "source": [
    "### Joining the dataframes\n",
    "Both dataframes will have to be joined before analysing. After joining, specific cases will be looked at where there are no corresponding anthroprometric data."
   ]
  },
  {
   "cell_type": "code",
   "execution_count": 19,
   "metadata": {},
   "outputs": [],
   "source": [
    "combine = ppdf.merge(nbadf, on = \"Player\", how = 'left')"
   ]
  },
  {
   "cell_type": "code",
   "execution_count": 20,
   "metadata": {},
   "outputs": [
    {
     "data": {
      "text/html": [
       "<div>\n",
       "<style scoped>\n",
       "    .dataframe tbody tr th:only-of-type {\n",
       "        vertical-align: middle;\n",
       "    }\n",
       "\n",
       "    .dataframe tbody tr th {\n",
       "        vertical-align: top;\n",
       "    }\n",
       "\n",
       "    .dataframe thead th {\n",
       "        text-align: right;\n",
       "    }\n",
       "</style>\n",
       "<table border=\"1\" class=\"dataframe\">\n",
       "  <thead>\n",
       "    <tr style=\"text-align: right;\">\n",
       "      <th></th>\n",
       "      <th>Player</th>\n",
       "      <th>Pos</th>\n",
       "      <th>Position</th>\n",
       "      <th>Height</th>\n",
       "      <th>Weight</th>\n",
       "      <th>Wingspan</th>\n",
       "    </tr>\n",
       "  </thead>\n",
       "  <tbody>\n",
       "    <tr>\n",
       "      <th>0</th>\n",
       "      <td>Julius Randle</td>\n",
       "      <td>PF</td>\n",
       "      <td>PF</td>\n",
       "      <td>202.565</td>\n",
       "      <td>113.26392</td>\n",
       "      <td>213.360</td>\n",
       "    </tr>\n",
       "    <tr>\n",
       "      <th>1</th>\n",
       "      <td>RJ Barrett</td>\n",
       "      <td>SG</td>\n",
       "      <td>NaN</td>\n",
       "      <td>NaN</td>\n",
       "      <td>NaN</td>\n",
       "      <td>NaN</td>\n",
       "    </tr>\n",
       "    <tr>\n",
       "      <th>2</th>\n",
       "      <td>Nikola Jokić</td>\n",
       "      <td>C</td>\n",
       "      <td>NaN</td>\n",
       "      <td>NaN</td>\n",
       "      <td>NaN</td>\n",
       "      <td>NaN</td>\n",
       "    </tr>\n",
       "    <tr>\n",
       "      <th>3</th>\n",
       "      <td>Buddy Hield</td>\n",
       "      <td>SG</td>\n",
       "      <td>SG</td>\n",
       "      <td>192.405</td>\n",
       "      <td>96.34464</td>\n",
       "      <td>206.375</td>\n",
       "    </tr>\n",
       "    <tr>\n",
       "      <th>4</th>\n",
       "      <td>Damian Lillard</td>\n",
       "      <td>PG</td>\n",
       "      <td>PG</td>\n",
       "      <td>187.325</td>\n",
       "      <td>85.63968</td>\n",
       "      <td>202.565</td>\n",
       "    </tr>\n",
       "  </tbody>\n",
       "</table>\n",
       "</div>"
      ],
      "text/plain": [
       "           Player Pos Position   Height     Weight  Wingspan\n",
       "0   Julius Randle  PF       PF  202.565  113.26392   213.360\n",
       "1      RJ Barrett  SG      NaN      NaN        NaN       NaN\n",
       "2    Nikola Jokić   C      NaN      NaN        NaN       NaN\n",
       "3     Buddy Hield  SG       SG  192.405   96.34464   206.375\n",
       "4  Damian Lillard  PG       PG  187.325   85.63968   202.565"
      ]
     },
     "execution_count": 20,
     "metadata": {},
     "output_type": "execute_result"
    }
   ],
   "source": [
    "combine.head()"
   ]
  },
  {
   "cell_type": "code",
   "execution_count": 21,
   "metadata": {},
   "outputs": [],
   "source": [
    "# Drop second position columns\n",
    "combine = combine.drop('Position', axis=1)"
   ]
  },
  {
   "cell_type": "code",
   "execution_count": 22,
   "metadata": {},
   "outputs": [
    {
     "data": {
      "text/html": [
       "<div>\n",
       "<style scoped>\n",
       "    .dataframe tbody tr th:only-of-type {\n",
       "        vertical-align: middle;\n",
       "    }\n",
       "\n",
       "    .dataframe tbody tr th {\n",
       "        vertical-align: top;\n",
       "    }\n",
       "\n",
       "    .dataframe thead th {\n",
       "        text-align: right;\n",
       "    }\n",
       "</style>\n",
       "<table border=\"1\" class=\"dataframe\">\n",
       "  <thead>\n",
       "    <tr style=\"text-align: right;\">\n",
       "      <th></th>\n",
       "      <th>Player</th>\n",
       "      <th>Pos</th>\n",
       "      <th>Height</th>\n",
       "      <th>Weight</th>\n",
       "      <th>Wingspan</th>\n",
       "    </tr>\n",
       "  </thead>\n",
       "  <tbody>\n",
       "    <tr>\n",
       "      <th>0</th>\n",
       "      <td>Julius Randle</td>\n",
       "      <td>PF</td>\n",
       "      <td>202.565</td>\n",
       "      <td>113.26392</td>\n",
       "      <td>213.360</td>\n",
       "    </tr>\n",
       "    <tr>\n",
       "      <th>1</th>\n",
       "      <td>RJ Barrett</td>\n",
       "      <td>SG</td>\n",
       "      <td>NaN</td>\n",
       "      <td>NaN</td>\n",
       "      <td>NaN</td>\n",
       "    </tr>\n",
       "    <tr>\n",
       "      <th>2</th>\n",
       "      <td>Nikola Jokić</td>\n",
       "      <td>C</td>\n",
       "      <td>NaN</td>\n",
       "      <td>NaN</td>\n",
       "      <td>NaN</td>\n",
       "    </tr>\n",
       "    <tr>\n",
       "      <th>3</th>\n",
       "      <td>Buddy Hield</td>\n",
       "      <td>SG</td>\n",
       "      <td>192.405</td>\n",
       "      <td>96.34464</td>\n",
       "      <td>206.375</td>\n",
       "    </tr>\n",
       "    <tr>\n",
       "      <th>4</th>\n",
       "      <td>Damian Lillard</td>\n",
       "      <td>PG</td>\n",
       "      <td>187.325</td>\n",
       "      <td>85.63968</td>\n",
       "      <td>202.565</td>\n",
       "    </tr>\n",
       "  </tbody>\n",
       "</table>\n",
       "</div>"
      ],
      "text/plain": [
       "           Player Pos   Height     Weight  Wingspan\n",
       "0   Julius Randle  PF  202.565  113.26392   213.360\n",
       "1      RJ Barrett  SG      NaN        NaN       NaN\n",
       "2    Nikola Jokić   C      NaN        NaN       NaN\n",
       "3     Buddy Hield  SG  192.405   96.34464   206.375\n",
       "4  Damian Lillard  PG  187.325   85.63968   202.565"
      ]
     },
     "execution_count": 22,
     "metadata": {},
     "output_type": "execute_result"
    }
   ],
   "source": [
    "combine.head()"
   ]
  },
  {
   "cell_type": "code",
   "execution_count": 23,
   "metadata": {},
   "outputs": [],
   "source": [
    "# Look at NaNs\n",
    "nan = combine[combine['Height'].isna()]"
   ]
  },
  {
   "cell_type": "code",
   "execution_count": 24,
   "metadata": {},
   "outputs": [],
   "source": [
    "# This option allows a full look at the dataframe\n",
    "# pd.set_option('display.max_rows', None)"
   ]
  },
  {
   "cell_type": "code",
   "execution_count": 25,
   "metadata": {},
   "outputs": [
    {
     "data": {
      "text/html": [
       "<div>\n",
       "<style scoped>\n",
       "    .dataframe tbody tr th:only-of-type {\n",
       "        vertical-align: middle;\n",
       "    }\n",
       "\n",
       "    .dataframe tbody tr th {\n",
       "        vertical-align: top;\n",
       "    }\n",
       "\n",
       "    .dataframe thead th {\n",
       "        text-align: right;\n",
       "    }\n",
       "</style>\n",
       "<table border=\"1\" class=\"dataframe\">\n",
       "  <thead>\n",
       "    <tr style=\"text-align: right;\">\n",
       "      <th></th>\n",
       "      <th>Player</th>\n",
       "      <th>Pos</th>\n",
       "      <th>Height</th>\n",
       "      <th>Weight</th>\n",
       "      <th>Wingspan</th>\n",
       "    </tr>\n",
       "  </thead>\n",
       "  <tbody>\n",
       "    <tr>\n",
       "      <th>1</th>\n",
       "      <td>RJ Barrett</td>\n",
       "      <td>SG</td>\n",
       "      <td>NaN</td>\n",
       "      <td>NaN</td>\n",
       "      <td>NaN</td>\n",
       "    </tr>\n",
       "    <tr>\n",
       "      <th>2</th>\n",
       "      <td>Nikola Jokić</td>\n",
       "      <td>C</td>\n",
       "      <td>NaN</td>\n",
       "      <td>NaN</td>\n",
       "      <td>NaN</td>\n",
       "    </tr>\n",
       "    <tr>\n",
       "      <th>7</th>\n",
       "      <td>Andrew Wiggins</td>\n",
       "      <td>PF</td>\n",
       "      <td>NaN</td>\n",
       "      <td>NaN</td>\n",
       "      <td>NaN</td>\n",
       "    </tr>\n",
       "    <tr>\n",
       "      <th>8</th>\n",
       "      <td>Mikal Bridges</td>\n",
       "      <td>SF</td>\n",
       "      <td>NaN</td>\n",
       "      <td>NaN</td>\n",
       "      <td>NaN</td>\n",
       "    </tr>\n",
       "    <tr>\n",
       "      <th>9</th>\n",
       "      <td>Nikola Vučević</td>\n",
       "      <td>C</td>\n",
       "      <td>NaN</td>\n",
       "      <td>NaN</td>\n",
       "      <td>NaN</td>\n",
       "    </tr>\n",
       "  </tbody>\n",
       "</table>\n",
       "</div>"
      ],
      "text/plain": [
       "           Player Pos  Height  Weight  Wingspan\n",
       "1      RJ Barrett  SG     NaN     NaN       NaN\n",
       "2    Nikola Jokić   C     NaN     NaN       NaN\n",
       "7  Andrew Wiggins  PF     NaN     NaN       NaN\n",
       "8   Mikal Bridges  SF     NaN     NaN       NaN\n",
       "9  Nikola Vučević   C     NaN     NaN       NaN"
      ]
     },
     "execution_count": 25,
     "metadata": {},
     "output_type": "execute_result"
    }
   ],
   "source": [
    "nan.head()"
   ]
  },
  {
   "cell_type": "code",
   "execution_count": 26,
   "metadata": {},
   "outputs": [],
   "source": [
    "# Remove NaNs from dataframe\n",
    "combine = combine.dropna()"
   ]
  },
  {
   "cell_type": "code",
   "execution_count": 27,
   "metadata": {},
   "outputs": [
    {
     "data": {
      "text/html": [
       "<div>\n",
       "<style scoped>\n",
       "    .dataframe tbody tr th:only-of-type {\n",
       "        vertical-align: middle;\n",
       "    }\n",
       "\n",
       "    .dataframe tbody tr th {\n",
       "        vertical-align: top;\n",
       "    }\n",
       "\n",
       "    .dataframe thead th {\n",
       "        text-align: right;\n",
       "    }\n",
       "</style>\n",
       "<table border=\"1\" class=\"dataframe\">\n",
       "  <thead>\n",
       "    <tr style=\"text-align: right;\">\n",
       "      <th></th>\n",
       "      <th>Player</th>\n",
       "      <th>Pos</th>\n",
       "      <th>Height</th>\n",
       "      <th>Weight</th>\n",
       "      <th>Wingspan</th>\n",
       "    </tr>\n",
       "  </thead>\n",
       "  <tbody>\n",
       "    <tr>\n",
       "      <th>0</th>\n",
       "      <td>Julius Randle</td>\n",
       "      <td>PF</td>\n",
       "      <td>202.565</td>\n",
       "      <td>113.26392</td>\n",
       "      <td>213.360</td>\n",
       "    </tr>\n",
       "    <tr>\n",
       "      <th>3</th>\n",
       "      <td>Buddy Hield</td>\n",
       "      <td>SG</td>\n",
       "      <td>192.405</td>\n",
       "      <td>96.34464</td>\n",
       "      <td>206.375</td>\n",
       "    </tr>\n",
       "    <tr>\n",
       "      <th>4</th>\n",
       "      <td>Damian Lillard</td>\n",
       "      <td>PG</td>\n",
       "      <td>187.325</td>\n",
       "      <td>85.63968</td>\n",
       "      <td>202.565</td>\n",
       "    </tr>\n",
       "    <tr>\n",
       "      <th>5</th>\n",
       "      <td>Terry Rozier</td>\n",
       "      <td>SG</td>\n",
       "      <td>184.150</td>\n",
       "      <td>86.27472</td>\n",
       "      <td>203.835</td>\n",
       "    </tr>\n",
       "    <tr>\n",
       "      <th>6</th>\n",
       "      <td>Russell Westbrook</td>\n",
       "      <td>PG</td>\n",
       "      <td>188.595</td>\n",
       "      <td>87.09120</td>\n",
       "      <td>202.565</td>\n",
       "    </tr>\n",
       "  </tbody>\n",
       "</table>\n",
       "</div>"
      ],
      "text/plain": [
       "              Player Pos   Height     Weight  Wingspan\n",
       "0      Julius Randle  PF  202.565  113.26392   213.360\n",
       "3        Buddy Hield  SG  192.405   96.34464   206.375\n",
       "4     Damian Lillard  PG  187.325   85.63968   202.565\n",
       "5       Terry Rozier  SG  184.150   86.27472   203.835\n",
       "6  Russell Westbrook  PG  188.595   87.09120   202.565"
      ]
     },
     "execution_count": 27,
     "metadata": {},
     "output_type": "execute_result"
    }
   ],
   "source": [
    "combine.head()"
   ]
  },
  {
   "cell_type": "code",
   "execution_count": 28,
   "metadata": {},
   "outputs": [
    {
     "data": {
      "text/plain": [
       "Player      180\n",
       "Pos         180\n",
       "Height      180\n",
       "Weight      180\n",
       "Wingspan    180\n",
       "dtype: int64"
      ]
     },
     "execution_count": 28,
     "metadata": {},
     "output_type": "execute_result"
    }
   ],
   "source": [
    "# Count remaining datapoints\n",
    "combine.count()"
   ]
  },
  {
   "cell_type": "code",
   "execution_count": 29,
   "metadata": {},
   "outputs": [],
   "source": [
    "# Assign positional dataframes\n",
    "pgdf = combine.loc[combine['Pos'] == 'PG']\n",
    "sgdf = combine.loc[combine['Pos'] == 'SG']\n",
    "sfdf = combine.loc[combine['Pos'] == 'SF']\n",
    "pfdf = combine.loc[combine['Pos'] == 'PF']\n",
    "cdf = combine.loc[combine['Pos'] == 'C']"
   ]
  },
  {
   "cell_type": "code",
   "execution_count": 30,
   "metadata": {},
   "outputs": [
    {
     "name": "stdout",
     "output_type": "stream",
     "text": [
      "Player      31\n",
      "Pos         31\n",
      "Height      31\n",
      "Weight      31\n",
      "Wingspan    31\n",
      "dtype: int64\n",
      "Player      53\n",
      "Pos         53\n",
      "Height      53\n",
      "Weight      53\n",
      "Wingspan    53\n",
      "dtype: int64\n",
      "Player      26\n",
      "Pos         26\n",
      "Height      26\n",
      "Weight      26\n",
      "Wingspan    26\n",
      "dtype: int64\n",
      "Player      41\n",
      "Pos         41\n",
      "Height      41\n",
      "Weight      41\n",
      "Wingspan    41\n",
      "dtype: int64\n",
      "Player      29\n",
      "Pos         29\n",
      "Height      29\n",
      "Weight      29\n",
      "Wingspan    29\n",
      "dtype: int64\n"
     ]
    }
   ],
   "source": [
    "print(pgdf.count())\n",
    "print(sgdf.count())\n",
    "print(sfdf.count())\n",
    "print(pfdf.count())\n",
    "print(cdf.count())"
   ]
  },
  {
   "cell_type": "markdown",
   "metadata": {},
   "source": [
    "#### NB\n",
    "The numbers of each position should be noted as it may affect normality distributions later on (Centers will tend to have more rebounds, Point Guards more assists etc.)"
   ]
  },
  {
   "cell_type": "code",
   "execution_count": 31,
   "metadata": {},
   "outputs": [
    {
     "data": {
      "text/plain": [
       "Height      196.461944\n",
       "Weight       96.007464\n",
       "Wingspan    208.953806\n",
       "dtype: float64"
      ]
     },
     "execution_count": 31,
     "metadata": {},
     "output_type": "execute_result"
    }
   ],
   "source": [
    "combine.mean()"
   ]
  },
  {
   "cell_type": "markdown",
   "metadata": {},
   "source": [
    "## Visualisation of Data"
   ]
  },
  {
   "cell_type": "code",
   "execution_count": 32,
   "metadata": {},
   "outputs": [
    {
     "data": {
      "text/html": [
       "<div>\n",
       "<style scoped>\n",
       "    .dataframe tbody tr th:only-of-type {\n",
       "        vertical-align: middle;\n",
       "    }\n",
       "\n",
       "    .dataframe tbody tr th {\n",
       "        vertical-align: top;\n",
       "    }\n",
       "\n",
       "    .dataframe thead th {\n",
       "        text-align: right;\n",
       "    }\n",
       "</style>\n",
       "<table border=\"1\" class=\"dataframe\">\n",
       "  <thead>\n",
       "    <tr style=\"text-align: right;\">\n",
       "      <th></th>\n",
       "      <th>Height</th>\n",
       "      <th>Weight</th>\n",
       "      <th>Wingspan</th>\n",
       "    </tr>\n",
       "  </thead>\n",
       "  <tbody>\n",
       "    <tr>\n",
       "      <th>count</th>\n",
       "      <td>180.000000</td>\n",
       "      <td>180.000000</td>\n",
       "      <td>180.000000</td>\n",
       "    </tr>\n",
       "    <tr>\n",
       "      <th>mean</th>\n",
       "      <td>196.461944</td>\n",
       "      <td>96.007464</td>\n",
       "      <td>208.953806</td>\n",
       "    </tr>\n",
       "    <tr>\n",
       "      <th>std</th>\n",
       "      <td>7.557780</td>\n",
       "      <td>10.127191</td>\n",
       "      <td>9.265737</td>\n",
       "    </tr>\n",
       "    <tr>\n",
       "      <th>min</th>\n",
       "      <td>177.800000</td>\n",
       "      <td>77.792400</td>\n",
       "      <td>187.960000</td>\n",
       "    </tr>\n",
       "    <tr>\n",
       "      <th>25%</th>\n",
       "      <td>191.770000</td>\n",
       "      <td>87.340680</td>\n",
       "      <td>202.406250</td>\n",
       "    </tr>\n",
       "    <tr>\n",
       "      <th>50%</th>\n",
       "      <td>196.215000</td>\n",
       "      <td>95.528160</td>\n",
       "      <td>208.280000</td>\n",
       "    </tr>\n",
       "    <tr>\n",
       "      <th>75%</th>\n",
       "      <td>201.295000</td>\n",
       "      <td>103.148640</td>\n",
       "      <td>215.265000</td>\n",
       "    </tr>\n",
       "    <tr>\n",
       "      <th>max</th>\n",
       "      <td>216.535000</td>\n",
       "      <td>126.372960</td>\n",
       "      <td>234.950000</td>\n",
       "    </tr>\n",
       "  </tbody>\n",
       "</table>\n",
       "</div>"
      ],
      "text/plain": [
       "           Height      Weight    Wingspan\n",
       "count  180.000000  180.000000  180.000000\n",
       "mean   196.461944   96.007464  208.953806\n",
       "std      7.557780   10.127191    9.265737\n",
       "min    177.800000   77.792400  187.960000\n",
       "25%    191.770000   87.340680  202.406250\n",
       "50%    196.215000   95.528160  208.280000\n",
       "75%    201.295000  103.148640  215.265000\n",
       "max    216.535000  126.372960  234.950000"
      ]
     },
     "execution_count": 32,
     "metadata": {},
     "output_type": "execute_result"
    }
   ],
   "source": [
    "combine.describe()"
   ]
  },
  {
   "cell_type": "code",
   "execution_count": 33,
   "metadata": {},
   "outputs": [],
   "source": [
    "# Assign variables to columns for visualisation\n",
    "position = combine['Pos']\n",
    "height = combine['Height']\n",
    "weight = combine['Weight']\n",
    "wingspan = combine['Wingspan']"
   ]
  },
  {
   "cell_type": "code",
   "execution_count": 34,
   "metadata": {},
   "outputs": [
    {
     "data": {
      "image/png": "[encoded data removed]",
      "text/plain": [
       "<Figure size 1152x432 with 3 Axes>"
      ]
     },
     "metadata": {
      "needs_background": "light"
     },
     "output_type": "display_data"
    }
   ],
   "source": [
    "# Histograms to check for normal distribution of anthroprometric data\n",
    "fig, [ax1, ax2, ax3] = plt.subplots(ncols=3, figsize = (16,6))\n",
    "\n",
    "fig.suptitle('Distribution of Anthroprometric Data', fontsize=16)\n",
    "\n",
    "ax1.hist(height, bins=10)\n",
    "ax1.set_title('Height (cm)')\n",
    "\n",
    "ax2.hist(wingspan, bins=10)\n",
    "ax2.set_title('Wingspan (cm)')\n",
    "\n",
    "ax3.hist(weight, bins=10)\n",
    "ax3.set_title('Weight (kg)');\n"
   ]
  },
  {
   "cell_type": "markdown",
   "metadata": {},
   "source": [
    "While not anywhere close to the means of a normal population (the average height is about 196cm or just over 6ft4\"), the anthroprometric data seems to be normally distributed, with weight having somewhat of a positive skewness."
   ]
  },
  {
   "cell_type": "code",
   "execution_count": 35,
   "metadata": {},
   "outputs": [
    {
     "data": {
      "image/png": "[encoded data removed]",
      "text/plain": [
       "<Figure size 1008x720 with 12 Axes>"
      ]
     },
     "metadata": {
      "needs_background": "light"
     },
     "output_type": "display_data"
    }
   ],
   "source": [
    "ax = sns.pairplot(combine, hue = \"Pos\");\n",
    "ax.fig.suptitle(\"Height, Weight and Wingspan by Position\", size = 18, y=1.02)\n",
    "ax.fig.set_figwidth(14)\n",
    "ax.fig.set_figheight(10)"
   ]
  },
  {
   "cell_type": "markdown",
   "metadata": {},
   "source": [
    "## ANOVA Assumptions\n",
    "ANOVA assumes [3 things.](https://www.statisticssolutions.com/free-resources/directory-of-statistical-analyses/anova/) These are:\n",
    "\n",
    " - Population is normally distributed\n",
    " - Samples are independant of each other\n",
    " - Homogeneity of Variance"
   ]
  },
  {
   "cell_type": "markdown",
   "metadata": {},
   "source": [
    "### Normally Distributed Population\n",
    "Visual tests above for the 3 independant variables indicate that the populations are normally distributed. Below are Shapiro-Wilks tests for normality."
   ]
  },
  {
   "cell_type": "code",
   "execution_count": 36,
   "metadata": {},
   "outputs": [
    {
     "name": "stdout",
     "output_type": "stream",
     "text": [
      "Normality test for Height\n",
      "stat=0.995, p=0.843\n",
      "Probably Gaussian\n",
      "\n",
      "\n",
      "Normality test for Weight\n",
      "stat=0.978, p=0.006\n",
      "Probably not Gaussian\n",
      "\n",
      "\n",
      "Normality test for Wingspan\n",
      "stat=0.987, p=0.085\n",
      "Probably Gaussian\n",
      "\n",
      "\n"
     ]
    }
   ],
   "source": [
    "# https://towardsdatascience.com/normality-tests-in-python-31e04aa4f411\n",
    "\n",
    "normaltests = [height, weight, wingspan]\n",
    "for x in normaltests:\n",
    "    stat, p = shapiro(x)\n",
    "    print(f'Normality test for {x.name}')\n",
    "    print('stat=%.3f, p=%.3f' % (stat,p))\n",
    "    if p > 0.05:\n",
    "        print('Probably Gaussian\\n\\n')\n",
    "    else:\n",
    "        print('Probably not Gaussian\\n\\n')"
   ]
  },
  {
   "cell_type": "markdown",
   "metadata": {},
   "source": [
    "Height and Wingspan can be considered normally distributed according to the tests above. Weight cannot be considered normally distributed, even though the histogram may appear to be (albeight with some amount of skewness). We will use weight as a variable anyway but keep in mind that it did not pass this test."
   ]
  },
  {
   "cell_type": "markdown",
   "metadata": {},
   "source": [
    "### Independant Samples\n",
    "The data used can be considered independant as the variables do not impact each other across samples. One player's weight can no impact on another player's weight, same for height etc."
   ]
  },
  {
   "cell_type": "markdown",
   "metadata": {},
   "source": [
    "### Homogeneity of Variance\n",
    "Below are Pettit tests for Homogeneity of Variance for the 3 independant variables."
   ]
  },
  {
   "cell_type": "code",
   "execution_count": 37,
   "metadata": {},
   "outputs": [
    {
     "name": "stdout",
     "output_type": "stream",
     "text": [
      "Homogeneity test for Height\n",
      "Pettitt_Test(h=False, cp=19, p=0.3931, U=1199.0, avg=mean(mu1=192.2044736842105, mu2=196.96437888198759)) \n",
      "\n",
      "\n",
      "Homogeneity test for Weight\n",
      "Pettitt_Test(h=False, cp=22, p=0.6323, U=988.0, avg=mean(mu1=91.7550327272727, mu2=96.5995746835443)) \n",
      "\n",
      "\n",
      "Homogeneity test for Wingspan\n",
      "Pettitt_Test(h=False, cp=28, p=0.43895, U=1161.0, avg=mean(mu1=205.58124999999998, mu2=209.5750657894737)) \n",
      "\n",
      "\n"
     ]
    }
   ],
   "source": [
    "# https://pypi.org/project/pyhomogeneity/\n",
    "for x in normaltests:\n",
    "    result = hg.pettitt_test(x)\n",
    "    print(f'Homogeneity test for {x.name}')\n",
    "    print(result, \"\\n\\n\")"
   ]
  },
  {
   "cell_type": "markdown",
   "metadata": {},
   "source": [
    "A h score of False indicates that the variables are homogenous. All 3 variables can be deemed homogenous."
   ]
  },
  {
   "cell_type": "markdown",
   "metadata": {},
   "source": [
    "### ANOVA Assumptions Summary\n",
    "All 3 independant variable pass the 2nd and 3rd assumption for ANOVA testing as the sample are independant of each other and the variables are homogenous. The weight variable did not pass the Shapiro-Wilks tests for normality, however we we still include it in our ANOVA testing.\n",
    "\n",
    "#### Other Anova Assumption\n",
    "The other 3 ANOVA assumption indicated [here](https://statistics.laerd.com/spss-tutorials/one-way-anova-using-spss-statistics.php) are also satisfied:\n",
    "\n",
    " - The dependant variables are continuous\n",
    " - There are 2 or more (5) categorical, independant groups (The 5 positions)\n",
    " - There are no significant outliers (see dataset description)"
   ]
  },
  {
   "cell_type": "markdown",
   "metadata": {},
   "source": [
    "# ANOVA Testing"
   ]
  },
  {
   "cell_type": "markdown",
   "metadata": {},
   "source": [
    "### Null Hypothesis\n",
    "Our null hypothesis will be that there is **no significant difference in height, weight or wingspan between NBA positions**"
   ]
  },
  {
   "cell_type": "code",
   "execution_count": 38,
   "metadata": {},
   "outputs": [
    {
     "name": "stdout",
     "output_type": "stream",
     "text": [
      "Anova Test for Height\n",
      "Height F Statistic: 150.21631969344892\n",
      "Height p-value: 1.765580302072586e-55\n",
      "\n",
      "\n",
      "Anova Test for Wingspan\n",
      "Wingspan F Statistic: 62.39709599062229\n",
      "Wingspan p-value: 1.0920600240867652e-32\n",
      "\n",
      "\n",
      "Anova Test for Weight\n",
      "Weight F Statistic: 51.58078564318579\n",
      "Weight p-value: 1.2218502040993676e-28\n",
      "\n",
      "\n"
     ]
    }
   ],
   "source": [
    "# https://docs.scipy.org/doc/scipy/reference/generated/scipy.stats.f_oneway.html\n",
    "\n",
    "variables = [\"Height\", \"Wingspan\", \"Weight\"]\n",
    "for x in variables:\n",
    "    print(f\"Anova Test for {x}\")\n",
    "    F, p = f_oneway(pgdf[x], sgdf[x], sfdf[x], pfdf[x], cdf[x])\n",
    "    print(f\"{x} F Statistic: {F}\\n{x} p-value: {p}\\n\\n\")\n",
    "    "
   ]
  },
  {
   "cell_type": "markdown",
   "metadata": {},
   "source": [
    "## ANOVA Test Results\n",
    "Given the small p-values, the null hypothesis can be rejected. **There is a significant difference in height, wingspan and weight among NBA positions.**"
   ]
  },
  {
   "cell_type": "markdown",
   "metadata": {},
   "source": [
    "## Post Hoc Testing\n",
    "First, we will do another ANOVA test by a different method found [here.](https://scikit-posthocs.readthedocs.io/en/latest/tutorial/)"
   ]
  },
  {
   "cell_type": "code",
   "execution_count": 44,
   "metadata": {},
   "outputs": [
    {
     "name": "stdout",
     "output_type": "stream",
     "text": [
      "Anova Test for Height\n",
      "             df       sum_sq      mean_sq          F        PR(>F)\n",
      "C(Pos)      4.0  7918.306478  1979.576620  150.21632  1.765580e-55\n",
      "Residual  175.0  2306.180241    13.178173        NaN           NaN \n",
      "\n",
      "\n",
      "Anova Test for Wingspan\n",
      "             df       sum_sq      mean_sq          F        PR(>F)\n",
      "C(Pos)      4.0  9033.773264  2258.443316  62.397096  1.092060e-32\n",
      "Residual  175.0  6334.070104    36.194686        NaN           NaN \n",
      "\n",
      "\n",
      "Anova Test for Weight\n",
      "             df       sum_sq      mean_sq          F        PR(>F)\n",
      "C(Pos)      4.0  9933.122325  2483.280581  51.580786  1.221850e-28\n",
      "Residual  175.0  8425.115987    48.143520        NaN           NaN \n",
      "\n",
      "\n"
     ]
    }
   ],
   "source": [
    "variables = [\"Height\", \"Wingspan\", \"Weight\"]\n",
    "for x in variables:\n",
    "    print(f\"Anova Test for {x}\")\n",
    "    lm = sfa.ols(f'{x} ~ C(Pos)', data=combine).fit()\n",
    "    anova = sa.stats.anova_lm(lm)\n",
    "    print(anova, \"\\n\\n\")"
   ]
  },
  {
   "cell_type": "code",
   "execution_count": 46,
   "metadata": {},
   "outputs": [
    {
     "name": "stdout",
     "output_type": "stream",
     "text": [
      "Post Hoc Tests for Height\n",
      "              PF            SG            PG            SF             C\n",
      "PF  1.000000e+00  4.706766e-20  4.365894e-23  2.405535e-03  3.998755e-11\n",
      "SG  4.706766e-20  1.000000e+00  9.272332e-09  1.469589e-09  2.458293e-28\n",
      "PG  4.365894e-23  9.272332e-09  1.000000e+00  6.498016e-14  2.258912e-24\n",
      "SF  2.405535e-03  1.469589e-09  6.498016e-14  1.000000e+00  7.157615e-12\n",
      "C   3.998755e-11  2.458293e-28  2.258912e-24  7.157615e-12  1.000000e+00 \n",
      "\n",
      "\n",
      "Post Hoc Tests for Wingspan\n",
      "              PF            SG            PG            SF             C\n",
      "PF  1.000000e+00  8.457479e-10  1.956018e-12  5.535820e-03  3.737113e-07\n",
      "SG  8.457479e-10  1.000000e+00  1.100317e-03  1.387463e-02  6.360892e-21\n",
      "PG  1.956018e-12  1.100317e-03  1.000000e+00  6.588809e-05  1.564670e-18\n",
      "SF  5.535820e-03  1.387463e-02  6.588809e-05  1.000000e+00  1.215926e-09\n",
      "C   3.737113e-07  6.360892e-21  1.564670e-18  1.215926e-09  1.000000e+00 \n",
      "\n",
      "\n",
      "Post Hoc Tests for Weight\n",
      "              PF            SG            PG        SF             C\n",
      "PF  1.000000e+00  1.656743e-15  6.075128e-13  0.000019  7.020900e-02\n",
      "SG  1.656743e-15  1.000000e+00  7.020900e-02  0.002775  7.914368e-16\n",
      "PG  6.075128e-13  7.020900e-02  1.000000e+00  0.000351  2.313553e-12\n",
      "SF  1.892080e-05  2.775362e-03  3.505801e-04  1.000000  1.473713e-06\n",
      "C   7.020900e-02  7.914368e-16  2.313553e-12  0.000001  1.000000e+00 \n",
      "\n",
      "\n"
     ]
    }
   ],
   "source": [
    "variables = [\"Height\", \"Wingspan\", \"Weight\"]\n",
    "for x in variables:\n",
    "    print(f\"Post Hoc Tests for {x}\")\n",
    "    postHoc = sp.posthoc_ttest(combine, val_col=x, group_col='Pos', p_adjust='holm')\n",
    "    print(postHoc, \"\\n\\n\")\n",
    "    "
   ]
  },
  {
   "cell_type": "markdown",
   "metadata": {},
   "source": [
    "### Post Hoc Test Results\n",
    "Almost all positions had significant differences between them for all variables. Of interest are the ones that did not. There was a significant difference in all positions in both wingspan and height, with the lowest significance coming in wingspan between Small Forwards(SF) and Shooting Guards(SG).\n",
    "\n",
    "Tests for weight between Power Forwards (PF) and Centres (C) had a p-value of 0.07. Interestingly, the same p-value was found for Point Guards (PG) and Shooting Guards for the weight variable."
   ]
  },
  {
   "cell_type": "markdown",
   "metadata": {},
   "source": [
    "***"
   ]
  },
  {
   "cell_type": "markdown",
   "metadata": {},
   "source": [
    "# Conclusion\n",
    "ANOVA tests show that there is a significant difference in weight, height and wingspan between positions in the NBA. Further Post-Hoc testing shows that there is a significant difference among all positions for height and wingspan. For weight, there is a significant difference between most position, with the exception being between Centres and Power Forwards, and Point Guards and Shooting Guards."
   ]
  },
  {
   "cell_type": "markdown",
   "metadata": {},
   "source": [
    "***"
   ]
  },
  {
   "cell_type": "markdown",
   "metadata": {},
   "source": [
    "# The End"
   ]
  }
 ],
 "metadata": {
  "kernelspec": {
   "display_name": "Python 3",
   "language": "python",
   "name": "python3"
  },
  "language_info": {
   "codemirror_mode": {
    "name": "ipython",
    "version": 3
   },
   "file_extension": ".py",
   "mimetype": "text/x-python",
   "name": "python",
   "nbconvert_exporter": "python",
   "pygments_lexer": "ipython3",
   "version": "3.8.5"
  }
 },
 "nbformat": 4,
 "nbformat_minor": 4
}
