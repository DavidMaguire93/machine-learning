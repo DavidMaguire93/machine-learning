{
 "cells": [
  {
   "cell_type": "markdown",
   "metadata": {},
   "source": [
    "# ANOVA Analysis of NBA Players: Is bigger better?"
   ]
  },
  {
   "cell_type": "markdown",
   "metadata": {},
   "source": [
    "For this project, I will be analysing the relationships between NBA players' height, weight and wingspan and their playing performance in some key statistical areas."
   ]
  },
  {
   "cell_type": "markdown",
   "metadata": {},
   "source": [
    "## Getting the data\n",
    "In order to get the dataset, I had to get the data from 2 sources. \n",
    "\n",
    "The first source was https://www.nba.com/stats/draft/combine-anthro/. This page contains data on all draft classes (Incoming players from college that will be selected by pro teams) by year. This gave me data for the player anthroprometric data. This data had to be manually pasted into an excel document as exporting / auto-scraping the data was proving difficult. I went back as far as 03/04 (this is the draft class that contained LeBron James, who I'm quite sure will be the earliest player drafted given the criteria I'll be using in this project)"
   ]
  },
  {
   "cell_type": "code",
   "execution_count": null,
   "metadata": {},
   "outputs": [],
   "source": []
  },
  {
   "cell_type": "code",
   "execution_count": null,
   "metadata": {},
   "outputs": [],
   "source": []
  },
  {
   "cell_type": "code",
   "execution_count": null,
   "metadata": {},
   "outputs": [],
   "source": []
  }
 ],
 "metadata": {
  "kernelspec": {
   "display_name": "Python 3",
   "language": "python",
   "name": "python3"
  },
  "language_info": {
   "codemirror_mode": {
    "name": "ipython",
    "version": 3
   },
   "file_extension": ".py",
   "mimetype": "text/x-python",
   "name": "python",
   "nbconvert_exporter": "python",
   "pygments_lexer": "ipython3",
   "version": "3.8.5"
  }
 },
 "nbformat": 4,
 "nbformat_minor": 4
}
